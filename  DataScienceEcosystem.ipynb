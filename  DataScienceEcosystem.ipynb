{
 "cells": [
  {
   "cell_type": "markdown",
   "id": "b780d0d8-92da-407f-9361-9ff71874d7d5",
   "metadata": {},
   "source": [
    "## Data Science Tools and Ecosystem \n",
    "\n",
    "using H1 style heading. "
   ]
  },
  {
   "cell_type": "markdown",
   "id": "464428ce-bc86-42f7-9bde-f4967a219d4f",
   "metadata": {},
   "source": [
    "## Welcome to the Interactive Notebook\n",
    "In this interactive notebook, you'll find a powerful tool to unleash your creativity and boost your productivity. With the ability to combine code, text, and visualizations, this notebook empowers you to explore, analyze, and communicate your ideas effectively. Whether you're a data scientist, a researcher, or simply curious about the world around you, this notebook is your gateway to a world of discovery. So let's dive in and let your imagination run wild!"
   ]
  },
  {
   "cell_type": "markdown",
   "id": "d397cb3f-c0ec-4511-82c7-c4fa89fcc3a6",
   "metadata": {},
   "source": [
    "**Objectives:** List popular languages for Data Science.\n",
    "* Popular programming languages used in data science.\n",
    "* \n",
    "Commonly used libraries for data science task.\n",
    "* \r\n",
    "Examples of evaluating arithmetic expressions in Pyth\n",
    "* n\r\n",
    "Converting minutes to hours usingthon\n",
    "* In\r\n",
    "Introduction to data visualization with Matplotlib and Sea.born"
   ]
  },
  {
   "cell_type": "markdown",
   "id": "0040f13a-2109-4d4b-ac82-098cd4ca869d",
   "metadata": {},
   "source": [
    "## Some of the popular languages that Data Scientists use are:\n",
    "1.python\\\n",
    "2.R\\\n",
    "3.julia"
   ]
  },
  {
   "cell_type": "markdown",
   "id": "6669fd5b-3593-45c3-83d2-66e9190cf60d",
   "metadata": {},
   "source": [
    "# Some of the commonly used libraries used by Data Scientists include:\n",
    "1.Numpy\\\n",
    "2.Pandas\\\n",
    "3.TensorFlow\\\n",
    "4.Keras\\\n",
    "5.matplotlib"
   ]
  },
  {
   "cell_type": "markdown",
   "id": "b0da3bd4-f651-4cd3-a8d5-b6fb714412d6",
   "metadata": {},
   "source": [
    "| Data Science Tools |\r\n",
    "|-------------------|\r\n",
    "| Jupyter Notebook  |\r\n",
    "| RStudio           |\r\n",
    "| Apache Zeppelin   |"
   ]
  },
  {
   "cell_type": "markdown",
   "id": "8e9d6a2c-46c4-45fb-816e-38f413cee8f6",
   "metadata": {},
   "source": [
    "### examples of evaluating arithmetic expressions in Python"
   ]
  },
  {
   "cell_type": "markdown",
   "id": "bf01e48a-61a8-4a0a-98ca-e1fea296b1fb",
   "metadata": {},
   "source": [
    "### 1.Addition:"
   ]
  },
  {
   "cell_type": "code",
   "execution_count": null,
   "id": "c27b4b57-f819-43a1-ab19-da2820382360",
   "metadata": {},
   "outputs": [],
   "source": [
    "x = 5\n",
    "y = 3\n",
    "result = x + y\n",
    "print(result)  # Output: 8\n"
   ]
  },
  {
   "cell_type": "markdown",
   "id": "02abed44-58ee-44ee-8006-430f285b32c4",
   "metadata": {},
   "source": [
    "### 2.subtraction:"
   ]
  },
  {
   "cell_type": "code",
   "execution_count": null,
   "id": "50dad28e-2698-4d38-a025-08e019d0bf4a",
   "metadata": {},
   "outputs": [],
   "source": [
    "x = 5\n",
    "y = 3\n",
    "result = x - y\n",
    "print(result)  # Output: 2\n"
   ]
  },
  {
   "cell_type": "markdown",
   "id": "265b5f4b-a710-4327-82ef-0b678925708b",
   "metadata": {},
   "source": [
    "### 3.Multiplication:"
   ]
  },
  {
   "cell_type": "code",
   "execution_count": null,
   "id": "d77c1fcd-b4f7-412c-9268-a147467e3a2b",
   "metadata": {},
   "outputs": [],
   "source": [
    "x = 4\n",
    "y = 6\n",
    "result = x * y\n",
    "print(result)  # Output: 24\n"
   ]
  },
  {
   "cell_type": "code",
   "execution_count": 2,
   "id": "a1334754-e47c-4f1f-8f66-8a6646a4d7ce",
   "metadata": {},
   "outputs": [
    {
     "name": "stdout",
     "output_type": "stream",
     "text": [
      "17\n"
     ]
    }
   ],
   "source": [
    "# This is a simple arithmetic expression to multiply then add integers.\n",
    "result = (3 * 4) + 5\n",
    "print(result)  # Output: 17\n"
   ]
  },
  {
   "cell_type": "code",
   "execution_count": null,
   "id": "77912d77-dc63-46b1-96e5-507ea7b37757",
   "metadata": {},
   "outputs": [],
   "source": [
    "# This will convert 200 minutes to hours by dividing by 60.\n",
    "minutes = 200\n",
    "hours = minutes / 60\n",
    "print(hours)  # Output: 3.3333333333333335\n"
   ]
  },
  {
   "cell_type": "markdown",
   "id": "7a1fda1a-5f94-40c9-aded-85254ff93927",
   "metadata": {},
   "source": [
    "## Author\n",
    "---------\n",
    "Jayant"
   ]
  },
  {
   "cell_type": "code",
   "execution_count": null,
   "id": "4546efec-3e8c-44be-bdf6-d2688b7f1438",
   "metadata": {},
   "outputs": [],
   "source": []
  },
  {
   "cell_type": "code",
   "execution_count": null,
   "id": "931ee870-5d39-4796-8a49-47a1fa536a2d",
   "metadata": {},
   "outputs": [],
   "source": []
  },
  {
   "cell_type": "code",
   "execution_count": null,
   "id": "5263da44-3817-4c68-b91e-173ea6039334",
   "metadata": {},
   "outputs": [],
   "source": []
  },
  {
   "cell_type": "code",
   "execution_count": null,
   "id": "d4344b39-cc09-4eaa-8bfe-66fc47968454",
   "metadata": {},
   "outputs": [],
   "source": []
  },
  {
   "cell_type": "code",
   "execution_count": null,
   "id": "a99b6077-8dde-4ab2-bd34-f32d7954e879",
   "metadata": {},
   "outputs": [],
   "source": []
  },
  {
   "cell_type": "code",
   "execution_count": null,
   "id": "c1bd182f-266c-4d03-bf27-30987aae3c9e",
   "metadata": {},
   "outputs": [],
   "source": []
  },
  {
   "cell_type": "code",
   "execution_count": null,
   "id": "f4e5dd51-b011-4ff0-abbd-fa11cde69293",
   "metadata": {},
   "outputs": [],
   "source": []
  },
  {
   "cell_type": "code",
   "execution_count": null,
   "id": "a0d35b5d-ddb7-4798-a406-e6ba521eafd4",
   "metadata": {},
   "outputs": [],
   "source": []
  },
  {
   "cell_type": "code",
   "execution_count": null,
   "id": "5dee0b67-2271-4495-9cfd-154becd1dd8e",
   "metadata": {},
   "outputs": [],
   "source": []
  },
  {
   "cell_type": "code",
   "execution_count": null,
   "id": "0adb0ed3-ff9b-4207-8ed6-01f46a60b28b",
   "metadata": {},
   "outputs": [],
   "source": []
  }
 ],
 "metadata": {
  "kernelspec": {
   "display_name": "Python 3 (ipykernel)",
   "language": "python",
   "name": "python3"
  },
  "language_info": {
   "codemirror_mode": {
    "name": "ipython",
    "version": 3
   },
   "file_extension": ".py",
   "mimetype": "text/x-python",
   "name": "python",
   "nbconvert_exporter": "python",
   "pygments_lexer": "ipython3",
   "version": "3.11.5"
  }
 },
 "nbformat": 4,
 "nbformat_minor": 5
}
